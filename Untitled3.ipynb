{
 "cells": [
  {
   "cell_type": "code",
   "execution_count": 8,
   "id": "dbe0f832-77d5-45b1-955a-1ea2d990248b",
   "metadata": {},
   "outputs": [
    {
     "name": "stdout",
     "output_type": "stream",
     "text": [
      "Collecting python-docx\n",
      "  Using cached python_docx-1.2.0-py3-none-any.whl.metadata (2.0 kB)\n",
      "Requirement already satisfied: lxml>=3.1.0 in c:\\users\\narimani\\anaconda3\\lib\\site-packages (from python-docx) (5.3.0)\n",
      "Requirement already satisfied: typing_extensions>=4.9.0 in c:\\users\\narimani\\anaconda3\\lib\\site-packages (from python-docx) (4.12.2)\n",
      "Using cached python_docx-1.2.0-py3-none-any.whl (252 kB)\n",
      "Installing collected packages: python-docx\n",
      "Successfully installed python-docx-1.2.0\n",
      "Note: you may need to restart the kernel to use updated packages.\n"
     ]
    }
   ],
   "source": [
    "pip install python-docx"
   ]
  },
  {
   "cell_type": "code",
   "execution_count": 14,
   "id": "2b135eb3-3683-4574-86b5-06f71161547a",
   "metadata": {},
   "outputs": [],
   "source": [
    "from docx import Document"
   ]
  },
  {
   "cell_type": "code",
   "execution_count": 15,
   "id": "d73116c0-1522-4c32-a52d-5f9d3c9b2600",
   "metadata": {},
   "outputs": [],
   "source": [
    "doc = Document('16326594279577918.docx')"
   ]
  },
  {
   "cell_type": "code",
   "execution_count": 18,
   "id": "bbfcbb40-a133-4891-98f0-cda320c16dc2",
   "metadata": {},
   "outputs": [
    {
     "name": "stdout",
     "output_type": "stream",
     "text": [
      "بزرگترین جانور از تیرهٔ گربه‌سانان و بومی آسیا است که طول بدن آن به 2.7 تا ۳ متر و وزن آن به ۳۰۶ کیلوگرم می‌رسد. مهم‌ترین مشخصهٔ این جانور، خط‌های عمودی تیره روی خز قرمز-نارنجی آن است که در ناحیهٔ زیرین روشن‌تر است. این جانور دارای بدنی عضلانی و پاهایی بسیار نیرومند است. بدن ببر دارای موهای بلند و برّاق به رنگ نارنجی، همراه با خط‌های سیاه عمودی می‌باشد. جثّهٔ ببرهای نر بزرگ‌تر از ببرهای ماده است و همچنین موهای روی گونهٔ ببر نر بلندتر از ببر ماده می‌باشد. دندان‌های ببر بسیار قوی است و دندان نیش در میان جانوران خشکی بلندترین است. طول تاج دندان ببر به ۷۴٫۵ میلی‌متر و گاهی تا ۹۰ میلی‌متر می‌رسد. \n",
      "در باغ‌وحش ببرها معمولاً بین ۱۰تا۱۵ سال عمر می‌کنند. بیشترین طول عمر ثبت شده در باغ‌ وحش‌ها ۲۶ سال گزارش شده‌است. \n",
      "\n"
     ]
    }
   ],
   "source": [
    "for para in doc.paragraphs:\n",
    "    print(para.text)"
   ]
  },
  {
   "cell_type": "code",
   "execution_count": 66,
   "id": "3d9c1b5e-e50c-4548-8131-b321fcbf66ff",
   "metadata": {},
   "outputs": [],
   "source": [
    "import re"
   ]
  },
  {
   "cell_type": "code",
   "execution_count": 67,
   "id": "1371e81c-1cc3-45f0-a4a5-b8f6e2621884",
   "metadata": {},
   "outputs": [],
   "source": [
    "def normalize_text(text):\n",
    "    farsi_digits = '۰۱۲۳۴۵۶۷۸۹'\n",
    "    english_digits = '0123456789'\n",
    "    farsi_decimal_sep = '٫'\n",
    "    farsi_thousand_sep = '٬'\n",
    "    arabic_comma = '،'\n",
    "\n",
    "    translation_table = str.maketrans(farsi_digits, english_digits)\n",
    "    text = text.translate(translation_table)\n",
    "\n",
    "    text = text.replace(farsi_decimal_sep, '.').replace(arabic_comma, '.')\n",
    "    text = text.replace(',', '').replace(farsi_thousand_sep, '')\n",
    "\n",
    "    return text"
   ]
  },
  {
   "cell_type": "code",
   "execution_count": 75,
   "id": "3e1b18b7-67c1-48aa-ab49-a479ace63733",
   "metadata": {},
   "outputs": [],
   "source": [
    "def extract_numbers_from_docx(file_path):\n",
    "    doc = Document(file_path)\n",
    "    numbers = []\n",
    "    total = 0.0\n",
    "\n",
    "    pattern = r'\\d+(?:[./]\\d+)?'\n",
    "\n",
    "    for para in doc.paragraphs:\n",
    "        text = normalize_text(para.text)\n",
    "        found_numbers = re.findall(pattern, text)\n",
    "        numbers.extend(found_numbers)\n",
    "\n",
    "    return numbers"
   ]
  },
  {
   "cell_type": "code",
   "execution_count": 80,
   "id": "e9e8f92b-8ca2-4d05-b492-f05124fa869c",
   "metadata": {},
   "outputs": [],
   "source": [
    "def extract_and_sum_numbers_from_docx(file_path):\n",
    "    doc = Document(file_path)\n",
    "    numbers = []\n",
    "    total = 0.0\n",
    "\n",
    "    pattern = r'\\d+(?:[./]\\d+)?'\n",
    "\n",
    "    for para in doc.paragraphs:\n",
    "        text = normalize_text(para.text)\n",
    "        found_numbers = re.findall(pattern, text)\n",
    "\n",
    "        for num_str in found_numbers:\n",
    "            try:\n",
    "                if '/' in num_str:\n",
    "                    value = eval(num_str)  \n",
    "                else:\n",
    "                    value = float(num_str)\n",
    "                numbers.append(value)\n",
    "                total += value\n",
    "            except:\n",
    "                continue \n",
    "\n",
    "    return numbers, total"
   ]
  },
  {
   "cell_type": "code",
   "execution_count": 81,
   "id": "c974266a-181d-4b82-b1ef-ea21c9d31664",
   "metadata": {},
   "outputs": [
    {
     "name": "stdout",
     "output_type": "stream",
     "text": [
      "اعداد موجود در فایل:\n",
      "2.7\n",
      "3.0\n",
      "306.0\n",
      "74.5\n",
      "90.0\n",
      "10.0\n",
      "15.0\n",
      "26.0\n",
      "\n",
      "جمع اعداد: 527.2\n"
     ]
    }
   ],
   "source": [
    "file_path = '16326594279577918.docx'\n",
    "numbers, total = extract_and_sum_numbers_from_docx(file_path)\n",
    "\n",
    "print(\"اعداد موجود در فایل:\")\n",
    "for num in numbers:\n",
    "    print(num)\n",
    "\n",
    "print(\"\\nجمع اعداد:\", total)"
   ]
  }
 ],
 "metadata": {
  "kernelspec": {
   "display_name": "Python [conda env:base] *",
   "language": "python",
   "name": "conda-base-py"
  },
  "language_info": {
   "codemirror_mode": {
    "name": "ipython",
    "version": 3
   },
   "file_extension": ".py",
   "mimetype": "text/x-python",
   "name": "python",
   "nbconvert_exporter": "python",
   "pygments_lexer": "ipython3",
   "version": "3.13.5"
  }
 },
 "nbformat": 4,
 "nbformat_minor": 5
}
